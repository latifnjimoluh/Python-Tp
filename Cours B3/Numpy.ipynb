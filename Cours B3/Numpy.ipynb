{
 "cells": [
  {
   "cell_type": "code",
   "execution_count": 1,
   "id": "e379b788-16a9-4f4a-8b30-1cd0b259e765",
   "metadata": {},
   "outputs": [],
   "source": [
    "import numpy as np"
   ]
  },
  {
   "cell_type": "code",
   "execution_count": 3,
   "id": "7f2f4927-90f3-48b5-ae27-789d3fabb3fa",
   "metadata": {},
   "outputs": [
    {
     "data": {
      "text/plain": [
       "[5, 3, 10]"
      ]
     },
     "execution_count": 3,
     "metadata": {},
     "output_type": "execute_result"
    }
   ],
   "source": [
    "my_list = [5, 3, 10]\n",
    "my_list"
   ]
  },
  {
   "cell_type": "code",
   "execution_count": 5,
   "id": "3c301382-9218-4021-8740-07fe010587c8",
   "metadata": {},
   "outputs": [],
   "source": [
    "y = np.array(my_list)"
   ]
  },
  {
   "cell_type": "code",
   "execution_count": 7,
   "id": "23dd142e-e60f-4424-9abf-3538e39d1738",
   "metadata": {},
   "outputs": [
    {
     "data": {
      "text/plain": [
       "array([ 5,  3, 10])"
      ]
     },
     "execution_count": 7,
     "metadata": {},
     "output_type": "execute_result"
    }
   ],
   "source": [
    "y"
   ]
  },
  {
   "cell_type": "code",
   "execution_count": 11,
   "id": "a09194e4-4b9e-499d-8403-f5a543b54ab0",
   "metadata": {},
   "outputs": [
    {
     "data": {
      "text/plain": [
       "numpy.ndarray"
      ]
     },
     "execution_count": 11,
     "metadata": {},
     "output_type": "execute_result"
    }
   ],
   "source": [
    "type(y)"
   ]
  },
  {
   "cell_type": "code",
   "execution_count": 13,
   "id": "3e8c7b99-bc2d-4885-8d7a-3d93a9275217",
   "metadata": {},
   "outputs": [],
   "source": [
    "matrix = np.array([[1, 2], [3, 4]])"
   ]
  },
  {
   "cell_type": "code",
   "execution_count": 15,
   "id": "19a8077d-ebe6-4869-ac5e-2c2d115c2a59",
   "metadata": {},
   "outputs": [
    {
     "data": {
      "text/plain": [
       "array([[1, 2],\n",
       "       [3, 4]])"
      ]
     },
     "execution_count": 15,
     "metadata": {},
     "output_type": "execute_result"
    }
   ],
   "source": [
    "matrix"
   ]
  },
  {
   "cell_type": "code",
   "execution_count": 17,
   "id": "17e3fbd2-d465-4ec6-9b34-b5ee70f87d0b",
   "metadata": {},
   "outputs": [
    {
     "data": {
      "text/plain": [
       "array([0.97929021, 0.41821304, 0.62512696, 0.40452251, 0.1098294 ,\n",
       "       0.02820814, 0.93571105, 0.17566886, 0.45776321, 0.62668666])"
      ]
     },
     "execution_count": 17,
     "metadata": {},
     "output_type": "execute_result"
    }
   ],
   "source": [
    "x = np.random.rand(10)\n",
    "x"
   ]
  },
  {
   "cell_type": "code",
   "execution_count": 19,
   "id": "0623f7e8-d0e8-4a74-bd5b-807d78fd07bd",
   "metadata": {},
   "outputs": [
    {
     "data": {
      "text/plain": [
       "array([[0.64984196, 0.7013951 , 0.91322372, 0.21428956, 0.37442919,\n",
       "        0.55777729, 0.17281144, 0.7973517 , 0.2536903 , 0.49643022],\n",
       "       [0.09408809, 0.89832998, 0.70380114, 0.83618365, 0.23109022,\n",
       "        0.00957273, 0.79695221, 0.75051833, 0.98287157, 0.06524249],\n",
       "       [0.74735469, 0.27255804, 0.53792854, 0.07185901, 0.76045129,\n",
       "        0.65215516, 0.95760027, 0.88619335, 0.3053471 , 0.42799516],\n",
       "       [0.27138626, 0.39420004, 0.14740214, 0.71921127, 0.44772818,\n",
       "        0.55205947, 0.75447693, 0.23718339, 0.63464497, 0.56509828],\n",
       "       [0.8720213 , 0.96401697, 0.09788451, 0.43153453, 0.12672339,\n",
       "        0.23811792, 0.68122701, 0.11598213, 0.56695643, 0.65794953],\n",
       "       [0.44544694, 0.19937709, 0.29513943, 0.72438198, 0.40728663,\n",
       "        0.24705769, 0.7699696 , 0.43771057, 0.00381042, 0.19846245],\n",
       "       [0.20148109, 0.83547175, 0.75797057, 0.12160761, 0.49454194,\n",
       "        0.64905863, 0.02868301, 0.02012435, 0.83400022, 0.99502311],\n",
       "       [0.47722762, 0.82109849, 0.55688847, 0.76005333, 0.19182689,\n",
       "        0.49016046, 0.26184877, 0.18347554, 0.33233648, 0.94174618],\n",
       "       [0.56428151, 0.87695151, 0.01654856, 0.94681999, 0.36527244,\n",
       "        0.5702301 , 0.03483508, 0.69268898, 0.31942002, 0.79780746],\n",
       "       [0.22620638, 0.58491262, 0.83341371, 0.67070846, 0.02114432,\n",
       "        0.58437474, 0.03280798, 0.37685636, 0.54739673, 0.51868538]])"
      ]
     },
     "execution_count": 19,
     "metadata": {},
     "output_type": "execute_result"
    }
   ],
   "source": [
    "x = np.random.rand(10, 10)\n",
    "x"
   ]
  },
  {
   "cell_type": "code",
   "execution_count": 21,
   "id": "cf3f89e2-2556-4f47-b4ab-6f04a010d890",
   "metadata": {},
   "outputs": [
    {
     "data": {
      "text/plain": [
       "array([-1.65665512, -0.91749765,  0.14631008, -0.03162455, -0.15762275,\n",
       "        0.51206915, -1.01426497, -0.80957308,  0.32752389, -1.62695506])"
      ]
     },
     "execution_count": 21,
     "metadata": {},
     "output_type": "execute_result"
    }
   ],
   "source": [
    "x = np.random.randn(10)\n",
    "x"
   ]
  },
  {
   "cell_type": "code",
   "execution_count": 23,
   "id": "368e775e-4c11-415c-bf51-8786710fbb02",
   "metadata": {},
   "outputs": [
    {
     "data": {
      "text/plain": [
       "9"
      ]
     },
     "execution_count": 23,
     "metadata": {},
     "output_type": "execute_result"
    }
   ],
   "source": [
    "x = np.random.randint(1, 10)\n",
    "x"
   ]
  },
  {
   "cell_type": "code",
   "execution_count": 25,
   "id": "82ba09c2-b283-443b-a7a2-f3d4bc63114e",
   "metadata": {},
   "outputs": [
    {
     "data": {
      "text/plain": [
       "array([57, 82, 81, 28, 59, 70, 21, 94, 27, 85, 91, 71, 56, 68, 38])"
      ]
     },
     "execution_count": 25,
     "metadata": {},
     "output_type": "execute_result"
    }
   ],
   "source": [
    "x = np.random.randint(1, 100, 15)\n",
    "x"
   ]
  },
  {
   "cell_type": "code",
   "execution_count": 27,
   "id": "ddd9040f-9a84-4f5a-9fba-be627525e593",
   "metadata": {},
   "outputs": [
    {
     "data": {
      "text/plain": [
       "array([ 1,  2,  3,  4,  5,  6,  7,  8,  9, 10, 11, 12, 13, 14, 15, 16, 17,\n",
       "       18, 19, 20, 21, 22, 23, 24, 25, 26, 27, 28, 29, 30, 31, 32, 33, 34,\n",
       "       35, 36, 37, 38, 39, 40, 41, 42, 43, 44, 45, 46, 47, 48, 49])"
      ]
     },
     "execution_count": 27,
     "metadata": {},
     "output_type": "execute_result"
    }
   ],
   "source": [
    "x = np.arange(1, 50)\n",
    "x"
   ]
  },
  {
   "cell_type": "code",
   "execution_count": 29,
   "id": "93fa3ab9-8815-48c7-9ccd-9f3632e6abdd",
   "metadata": {},
   "outputs": [
    {
     "data": {
      "text/plain": [
       "array([ 1,  6, 11, 16, 21, 26, 31, 36, 41, 46])"
      ]
     },
     "execution_count": 29,
     "metadata": {},
     "output_type": "execute_result"
    }
   ],
   "source": [
    "x = np.arange(1, 50, 5)\n",
    "x"
   ]
  },
  {
   "cell_type": "code",
   "execution_count": 31,
   "id": "c5b70fea-a692-467d-93a4-f72f04fcd620",
   "metadata": {},
   "outputs": [
    {
     "data": {
      "text/plain": [
       "array([[1., 0., 0., 0., 0.],\n",
       "       [0., 1., 0., 0., 0.],\n",
       "       [0., 0., 1., 0., 0.],\n",
       "       [0., 0., 0., 1., 0.],\n",
       "       [0., 0., 0., 0., 1.]])"
      ]
     },
     "execution_count": 31,
     "metadata": {},
     "output_type": "execute_result"
    }
   ],
   "source": [
    "x = np.eye(5)\n",
    "x"
   ]
  },
  {
   "cell_type": "code",
   "execution_count": 35,
   "id": "a87bcba5-8d38-4b4d-8694-fc7b7d9dc21f",
   "metadata": {},
   "outputs": [
    {
     "data": {
      "text/plain": [
       "array([1., 1., 1., 1., 1., 1., 1., 1., 1., 1., 1., 1., 1., 1., 1.])"
      ]
     },
     "execution_count": 35,
     "metadata": {},
     "output_type": "execute_result"
    }
   ],
   "source": [
    "x = np.ones(15)\n",
    "x"
   ]
  },
  {
   "cell_type": "code",
   "execution_count": 37,
   "id": "a69c187c-d75c-4745-bfcf-98e8a4c8c84f",
   "metadata": {},
   "outputs": [
    {
     "data": {
      "text/plain": [
       "array([[1., 1., 1., 1., 1., 1., 1., 1., 1., 1., 1., 1., 1., 1., 1.],\n",
       "       [1., 1., 1., 1., 1., 1., 1., 1., 1., 1., 1., 1., 1., 1., 1.],\n",
       "       [1., 1., 1., 1., 1., 1., 1., 1., 1., 1., 1., 1., 1., 1., 1.],\n",
       "       [1., 1., 1., 1., 1., 1., 1., 1., 1., 1., 1., 1., 1., 1., 1.],\n",
       "       [1., 1., 1., 1., 1., 1., 1., 1., 1., 1., 1., 1., 1., 1., 1.],\n",
       "       [1., 1., 1., 1., 1., 1., 1., 1., 1., 1., 1., 1., 1., 1., 1.],\n",
       "       [1., 1., 1., 1., 1., 1., 1., 1., 1., 1., 1., 1., 1., 1., 1.],\n",
       "       [1., 1., 1., 1., 1., 1., 1., 1., 1., 1., 1., 1., 1., 1., 1.],\n",
       "       [1., 1., 1., 1., 1., 1., 1., 1., 1., 1., 1., 1., 1., 1., 1.],\n",
       "       [1., 1., 1., 1., 1., 1., 1., 1., 1., 1., 1., 1., 1., 1., 1.],\n",
       "       [1., 1., 1., 1., 1., 1., 1., 1., 1., 1., 1., 1., 1., 1., 1.],\n",
       "       [1., 1., 1., 1., 1., 1., 1., 1., 1., 1., 1., 1., 1., 1., 1.],\n",
       "       [1., 1., 1., 1., 1., 1., 1., 1., 1., 1., 1., 1., 1., 1., 1.],\n",
       "       [1., 1., 1., 1., 1., 1., 1., 1., 1., 1., 1., 1., 1., 1., 1.],\n",
       "       [1., 1., 1., 1., 1., 1., 1., 1., 1., 1., 1., 1., 1., 1., 1.]])"
      ]
     },
     "execution_count": 37,
     "metadata": {},
     "output_type": "execute_result"
    }
   ],
   "source": [
    "x = np.ones((15, 15))\n",
    "x"
   ]
  },
  {
   "cell_type": "code",
   "execution_count": 39,
   "id": "e776df3e-753d-49a0-84aa-a16026de3169",
   "metadata": {},
   "outputs": [
    {
     "data": {
      "text/plain": [
       "(15, 15)"
      ]
     },
     "execution_count": 39,
     "metadata": {},
     "output_type": "execute_result"
    }
   ],
   "source": [
    "x.shape"
   ]
  },
  {
   "cell_type": "code",
   "execution_count": 41,
   "id": "3553fefc-b533-4ad3-9c78-8ad88d2b5bda",
   "metadata": {},
   "outputs": [
    {
     "data": {
      "text/plain": [
       "array([0., 0., 0., 0., 0., 0., 0., 0., 0., 0., 0., 0., 0., 0., 0., 0., 0.,\n",
       "       0., 0., 0., 0., 0., 0., 0., 0., 0., 0., 0., 0., 0., 0., 0., 0., 0.,\n",
       "       0., 0., 0., 0., 0., 0., 0., 0., 0., 0., 0., 0., 0., 0., 0., 0.])"
      ]
     },
     "execution_count": 41,
     "metadata": {},
     "output_type": "execute_result"
    }
   ],
   "source": [
    "x = np.zeros(50)\n",
    "x"
   ]
  },
  {
   "cell_type": "code",
   "execution_count": 43,
   "id": "6cbe044d-e6c3-4427-9f49-e9beab136259",
   "metadata": {},
   "outputs": [
    {
     "data": {
      "text/plain": [
       "array([ 5,  3, 10])"
      ]
     },
     "execution_count": 43,
     "metadata": {},
     "output_type": "execute_result"
    }
   ],
   "source": [
    "y"
   ]
  },
  {
   "cell_type": "code",
   "execution_count": 45,
   "id": "02a33b1f-477e-4f29-8b48-75db807c3bfd",
   "metadata": {},
   "outputs": [
    {
     "data": {
      "text/plain": [
       "3"
      ]
     },
     "execution_count": 45,
     "metadata": {},
     "output_type": "execute_result"
    }
   ],
   "source": [
    "len(y)"
   ]
  },
  {
   "cell_type": "code",
   "execution_count": 49,
   "id": "d64f163b-8261-4387-935c-9240539649a9",
   "metadata": {},
   "outputs": [
    {
     "data": {
      "text/plain": [
       "(3,)"
      ]
     },
     "execution_count": 49,
     "metadata": {},
     "output_type": "execute_result"
    }
   ],
   "source": [
    "y.shape"
   ]
  },
  {
   "cell_type": "code",
   "execution_count": 51,
   "id": "dc69eeaa-8740-4fac-ba88-f176e9a4e050",
   "metadata": {},
   "outputs": [
    {
     "data": {
      "text/plain": [
       "(2, 2)"
      ]
     },
     "execution_count": 51,
     "metadata": {},
     "output_type": "execute_result"
    }
   ],
   "source": [
    "matrix.shape"
   ]
  },
  {
   "cell_type": "code",
   "execution_count": 53,
   "id": "ac9234e4-eb94-4cce-afcd-1ca31c81d4b9",
   "metadata": {},
   "outputs": [
    {
     "data": {
      "text/plain": [
       "dtype('int32')"
      ]
     },
     "execution_count": 53,
     "metadata": {},
     "output_type": "execute_result"
    }
   ],
   "source": [
    "matrix.dtype"
   ]
  },
  {
   "cell_type": "code",
   "execution_count": 55,
   "id": "936d0fa9-05c2-490e-bba9-4d1ef4870780",
   "metadata": {},
   "outputs": [
    {
     "data": {
      "text/plain": [
       "array([[3, 5],\n",
       "       [7, 8]])"
      ]
     },
     "execution_count": 55,
     "metadata": {},
     "output_type": "execute_result"
    }
   ],
   "source": [
    "y = np.array([3, 5, 7, 8])\n",
    "y.reshape(2,2)"
   ]
  },
  {
   "cell_type": "code",
   "execution_count": 57,
   "id": "541317bd-ac50-4196-8215-33722d3be092",
   "metadata": {},
   "outputs": [
    {
     "data": {
      "text/plain": [
       "8"
      ]
     },
     "execution_count": 57,
     "metadata": {},
     "output_type": "execute_result"
    }
   ],
   "source": [
    "y.max()"
   ]
  },
  {
   "cell_type": "code",
   "execution_count": 59,
   "id": "4b6e547d-fc5b-4509-b27e-ef2a7d57ca97",
   "metadata": {},
   "outputs": [
    {
     "data": {
      "text/plain": [
       "3"
      ]
     },
     "execution_count": 59,
     "metadata": {},
     "output_type": "execute_result"
    }
   ],
   "source": [
    "y.min()"
   ]
  },
  {
   "cell_type": "code",
   "execution_count": 61,
   "id": "bced5acc-a590-40d4-9d29-42103ec06e3c",
   "metadata": {},
   "outputs": [
    {
     "data": {
      "text/plain": [
       "3"
      ]
     },
     "execution_count": 61,
     "metadata": {},
     "output_type": "execute_result"
    }
   ],
   "source": [
    "y.argmax()"
   ]
  },
  {
   "cell_type": "code",
   "execution_count": 63,
   "id": "6ab73062-b6bd-474f-b1bb-192fa694cb12",
   "metadata": {},
   "outputs": [
    {
     "data": {
      "text/plain": [
       "0"
      ]
     },
     "execution_count": 63,
     "metadata": {},
     "output_type": "execute_result"
    }
   ],
   "source": [
    "y.argmin()"
   ]
  },
  {
   "cell_type": "code",
   "execution_count": 65,
   "id": "586016b0-9bfa-4594-9b99-4127eb053e4e",
   "metadata": {},
   "outputs": [
    {
     "data": {
      "text/plain": [
       "array([1, 2, 3, 4])"
      ]
     },
     "execution_count": 65,
     "metadata": {},
     "output_type": "execute_result"
    }
   ],
   "source": [
    "x = np.arange(1, 5)\n",
    "x"
   ]
  },
  {
   "cell_type": "code",
   "execution_count": 67,
   "id": "c9cb4fc3-99c8-460c-b761-793c95dddc5f",
   "metadata": {},
   "outputs": [
    {
     "data": {
      "text/plain": [
       "array([2, 4, 6, 8])"
      ]
     },
     "execution_count": 67,
     "metadata": {},
     "output_type": "execute_result"
    }
   ],
   "source": [
    "y = np.arange(1, 5)\n",
    "z = x+y\n",
    "z"
   ]
  },
  {
   "cell_type": "code",
   "execution_count": 69,
   "id": "0ab45aed-bdad-4dc8-b3b1-87a7f6487b94",
   "metadata": {},
   "outputs": [
    {
     "data": {
      "text/plain": [
       "array([ 1,  4,  9, 16])"
      ]
     },
     "execution_count": 69,
     "metadata": {},
     "output_type": "execute_result"
    }
   ],
   "source": [
    "z = x**2\n",
    "z"
   ]
  },
  {
   "cell_type": "code",
   "execution_count": 71,
   "id": "f022d292-3c40-45c3-8ca1-2009a9f1cd65",
   "metadata": {},
   "outputs": [
    {
     "data": {
      "text/plain": [
       "array([1., 2., 3., 4.])"
      ]
     },
     "execution_count": 71,
     "metadata": {},
     "output_type": "execute_result"
    }
   ],
   "source": [
    "k = np.sqrt(z)\n",
    "k"
   ]
  },
  {
   "cell_type": "code",
   "execution_count": 73,
   "id": "8991c6c2-ce11-48ca-8120-ce445c42f4cf",
   "metadata": {},
   "outputs": [
    {
     "data": {
      "text/plain": [
       "array([ 2.71828183,  7.3890561 , 20.08553692, 54.59815003])"
      ]
     },
     "execution_count": 73,
     "metadata": {},
     "output_type": "execute_result"
    }
   ],
   "source": [
    "z = np.exp(y)\n",
    "z"
   ]
  },
  {
   "cell_type": "code",
   "execution_count": 75,
   "id": "e9131965-2263-49c6-aff6-ccc228e9a4af",
   "metadata": {},
   "outputs": [
    {
     "data": {
      "text/plain": [
       "array([2, 4, 1, 7, 6, 2, 7, 3, 8, 7])"
      ]
     },
     "execution_count": 75,
     "metadata": {},
     "output_type": "execute_result"
    }
   ],
   "source": [
    "x = np.random.randint(1, 10, 10)\n",
    "x"
   ]
  },
  {
   "cell_type": "code",
   "execution_count": 77,
   "id": "83488548-4bf8-4abe-8ebe-5745c5a0da61",
   "metadata": {},
   "outputs": [
    {
     "data": {
      "text/plain": [
       "7"
      ]
     },
     "execution_count": 77,
     "metadata": {},
     "output_type": "execute_result"
    }
   ],
   "source": [
    "x[3]"
   ]
  },
  {
   "cell_type": "code",
   "execution_count": 81,
   "id": "95ef9f2e-1187-43ad-892b-3b2c5c132976",
   "metadata": {},
   "outputs": [
    {
     "data": {
      "text/plain": [
       "array([2, 4, 1])"
      ]
     },
     "execution_count": 81,
     "metadata": {},
     "output_type": "execute_result"
    }
   ],
   "source": [
    "x[0:3]"
   ]
  },
  {
   "cell_type": "code",
   "execution_count": 83,
   "id": "b9bc09ae-d772-45d6-aefd-5b24760320ef",
   "metadata": {},
   "outputs": [
    {
     "data": {
      "text/plain": [
       "array([10, 10, 10, 10, 10, 10,  7,  3,  8,  7])"
      ]
     },
     "execution_count": 83,
     "metadata": {},
     "output_type": "execute_result"
    }
   ],
   "source": [
    "x[0:6] = 10\n",
    "x"
   ]
  },
  {
   "cell_type": "code",
   "execution_count": 85,
   "id": "95eedba0-6c45-40b8-8cff-0233a4cc174e",
   "metadata": {},
   "outputs": [
    {
     "data": {
      "text/plain": [
       "array([[5, 5, 8, 2, 3],\n",
       "       [4, 1, 9, 1, 5],\n",
       "       [6, 4, 7, 2, 2],\n",
       "       [8, 6, 6, 5, 4],\n",
       "       [8, 4, 1, 5, 3]])"
      ]
     },
     "execution_count": 85,
     "metadata": {},
     "output_type": "execute_result"
    }
   ],
   "source": [
    "matrix = np.random.randint(1, 10, (5, 5))\n",
    "matrix"
   ]
  },
  {
   "cell_type": "code",
   "execution_count": 87,
   "id": "8fa63f66-15bd-4f6d-85d3-6b6de95ac711",
   "metadata": {},
   "outputs": [
    {
     "data": {
      "text/plain": [
       "array([6, 4, 7, 2, 2])"
      ]
     },
     "execution_count": 87,
     "metadata": {},
     "output_type": "execute_result"
    }
   ],
   "source": [
    "matrix[2]"
   ]
  },
  {
   "cell_type": "code",
   "execution_count": 89,
   "id": "6a45f859-39a7-4b78-8ac4-b06731262e7d",
   "metadata": {},
   "outputs": [
    {
     "data": {
      "text/plain": [
       "8"
      ]
     },
     "execution_count": 89,
     "metadata": {},
     "output_type": "execute_result"
    }
   ],
   "source": [
    "matrix[0][2]"
   ]
  },
  {
   "cell_type": "code",
   "execution_count": 91,
   "id": "f6bf43be-8497-4671-91bc-beec90416d92",
   "metadata": {},
   "outputs": [
    {
     "data": {
      "text/plain": [
       "array([[5, 5, 8, 2, 3],\n",
       "       [4, 1, 9, 1, 5],\n",
       "       [6, 4, 7, 2, 2]])"
      ]
     },
     "execution_count": 91,
     "metadata": {},
     "output_type": "execute_result"
    }
   ],
   "source": [
    "mini_matrix = matrix[:3]\n",
    "mini_matrix"
   ]
  },
  {
   "cell_type": "code",
   "execution_count": 93,
   "id": "9bef3ce4-0488-44ef-aacd-c7bea9653f20",
   "metadata": {},
   "outputs": [
    {
     "data": {
      "text/plain": [
       "array([[6, 4, 7, 2, 2],\n",
       "       [8, 6, 6, 5, 4],\n",
       "       [8, 4, 1, 5, 3]])"
      ]
     },
     "execution_count": 93,
     "metadata": {},
     "output_type": "execute_result"
    }
   ],
   "source": [
    "mini_matrix = matrix[2:]\n",
    "mini_matrix"
   ]
  },
  {
   "cell_type": "code",
   "execution_count": 95,
   "id": "eb8694d6-8dcd-4a9d-a069-8924bc3dd2a6",
   "metadata": {},
   "outputs": [
    {
     "data": {
      "text/plain": [
       "array([[5, 5],\n",
       "       [4, 1],\n",
       "       [6, 4],\n",
       "       [8, 6],\n",
       "       [8, 4]])"
      ]
     },
     "execution_count": 95,
     "metadata": {},
     "output_type": "execute_result"
    }
   ],
   "source": [
    "mini_matrix = matrix[:, :2]\n",
    "mini_matrix"
   ]
  },
  {
   "cell_type": "code",
   "execution_count": 97,
   "id": "253e2c61-5967-4ddc-ab71-1ee8b2336c33",
   "metadata": {},
   "outputs": [
    {
     "data": {
      "text/plain": [
       "array([[8, 2, 3],\n",
       "       [9, 1, 5],\n",
       "       [7, 2, 2],\n",
       "       [6, 5, 4],\n",
       "       [1, 5, 3]])"
      ]
     },
     "execution_count": 97,
     "metadata": {},
     "output_type": "execute_result"
    }
   ],
   "source": [
    "mini_matrix = matrix[:, 2:]\n",
    "mini_matrix"
   ]
  },
  {
   "cell_type": "code",
   "execution_count": 99,
   "id": "ecc15042-f65e-4aa6-b936-e8a64e23ef2f",
   "metadata": {},
   "outputs": [
    {
     "data": {
      "text/plain": [
       "array([[31, 42, 25, 28],\n",
       "       [58,  5, 20, 16],\n",
       "       [16, 99, 71, 18],\n",
       "       [64, 50, 67, 32],\n",
       "       [96, 43,  1, 51],\n",
       "       [12, 90, 12, 20]])"
      ]
     },
     "execution_count": 99,
     "metadata": {},
     "output_type": "execute_result"
    }
   ],
   "source": [
    "array1=np.random.randint(100, size=(6,4))\n",
    "array1"
   ]
  },
  {
   "cell_type": "code",
   "execution_count": 101,
   "id": "f17e9f49-6d4b-4201-ace9-7229ab1a9d5e",
   "metadata": {},
   "outputs": [
    {
     "data": {
      "text/plain": [
       "(6, 4)"
      ]
     },
     "execution_count": 101,
     "metadata": {},
     "output_type": "execute_result"
    }
   ],
   "source": [
    "array1.shape"
   ]
  },
  {
   "cell_type": "code",
   "execution_count": 103,
   "id": "d4c5b0c8-2ad5-452a-920e-54b2a433a3e5",
   "metadata": {},
   "outputs": [
    {
     "data": {
      "text/plain": [
       "array([58, 99, 71, 64, 67, 96, 51, 90])"
      ]
     },
     "execution_count": 103,
     "metadata": {},
     "output_type": "execute_result"
    }
   ],
   "source": [
    "array1[array1>50]"
   ]
  },
  {
   "cell_type": "code",
   "execution_count": 105,
   "id": "e1765284-9655-47c9-8bc8-4e1ac8c15073",
   "metadata": {},
   "outputs": [
    {
     "data": {
      "text/plain": [
       "array([[False, False, False, False],\n",
       "       [ True, False, False, False],\n",
       "       [False,  True,  True, False],\n",
       "       [ True, False,  True, False],\n",
       "       [ True, False, False,  True],\n",
       "       [False,  True, False, False]])"
      ]
     },
     "execution_count": 105,
     "metadata": {},
     "output_type": "execute_result"
    }
   ],
   "source": [
    "array1>50"
   ]
  },
  {
   "cell_type": "code",
   "execution_count": 109,
   "id": "5ead7bda-8256-4a6e-9f4f-4f8416c40c68",
   "metadata": {},
   "outputs": [
    {
     "data": {
      "text/plain": [
       "array([58, 99, 71, 64, 50, 67, 96, 51, 90])"
      ]
     },
     "execution_count": 109,
     "metadata": {},
     "output_type": "execute_result"
    }
   ],
   "source": [
    "array1[array1>=50]"
   ]
  },
  {
   "cell_type": "code",
   "execution_count": 111,
   "id": "8293534a-9403-42d7-9286-cd2ef2f657dc",
   "metadata": {},
   "outputs": [
    {
     "data": {
      "text/plain": [
       "array([50])"
      ]
     },
     "execution_count": 111,
     "metadata": {},
     "output_type": "execute_result"
    }
   ],
   "source": [
    "array1[array1==50]"
   ]
  },
  {
   "cell_type": "code",
   "execution_count": 113,
   "id": "9044a630-c135-4d44-b08f-4e2795cd75e1",
   "metadata": {},
   "outputs": [
    {
     "data": {
      "text/plain": [
       "array([31, 42, 25, 28, 58,  5, 20, 16, 16, 99, 71, 18, 64, 67, 32, 96, 43,\n",
       "        1, 51, 12, 90, 12, 20])"
      ]
     },
     "execution_count": 113,
     "metadata": {},
     "output_type": "execute_result"
    }
   ],
   "source": [
    "array1[array1!=50]"
   ]
  },
  {
   "cell_type": "code",
   "execution_count": 115,
   "id": "db8c0373-7bd7-48f0-8364-2fa4f2391686",
   "metadata": {},
   "outputs": [
    {
     "data": {
      "text/plain": [
       "array([58, 64, 50, 67, 51])"
      ]
     },
     "execution_count": 115,
     "metadata": {},
     "output_type": "execute_result"
    }
   ],
   "source": [
    "array1[(array1>=50) & (array1<=70)]"
   ]
  },
  {
   "cell_type": "code",
   "execution_count": 117,
   "id": "37bcebf6-d592-4150-a365-7142aa3af64b",
   "metadata": {},
   "outputs": [
    {
     "data": {
      "text/plain": [
       "array([31, 25, 28, 58,  5, 20, 16, 16, 99, 71, 18, 64, 50, 67, 32, 96,  1,\n",
       "       51, 12, 90, 12, 20])"
      ]
     },
     "execution_count": 117,
     "metadata": {},
     "output_type": "execute_result"
    }
   ],
   "source": [
    "array1[(array1>=50) | (array1<=40)]"
   ]
  },
  {
   "cell_type": "code",
   "execution_count": 119,
   "id": "f57c50ba-600a-409f-9032-d8e531d036a1",
   "metadata": {},
   "outputs": [],
   "source": [
    "array2=np.array([[1,2,3],[4,5,6],[7,8,9]])"
   ]
  },
  {
   "cell_type": "code",
   "execution_count": 121,
   "id": "1ffbc83a-dd8d-4bf3-9eb6-cc82cb478838",
   "metadata": {},
   "outputs": [],
   "source": [
    "array3=np.array([[2,5,6],[9,10,11],[5,6,9]])"
   ]
  },
  {
   "cell_type": "code",
   "execution_count": 123,
   "id": "0841f650-714a-4586-8592-5bdd48b75a7e",
   "metadata": {},
   "outputs": [
    {
     "data": {
      "text/plain": [
       "array([[ 1,  2,  3],\n",
       "       [ 4,  5,  6],\n",
       "       [ 7,  8,  9],\n",
       "       [ 2,  5,  6],\n",
       "       [ 9, 10, 11],\n",
       "       [ 5,  6,  9]])"
      ]
     },
     "execution_count": 123,
     "metadata": {},
     "output_type": "execute_result"
    }
   ],
   "source": [
    "np.concatenate([array2, array3])"
   ]
  },
  {
   "cell_type": "code",
   "execution_count": 127,
   "id": "a86dd8c8-b126-4419-9f1e-870bebc0e79e",
   "metadata": {},
   "outputs": [],
   "source": [
    "array4=np.array([[4,10,13],[7,14,15],[10,16,18]])"
   ]
  },
  {
   "cell_type": "code",
   "execution_count": 129,
   "id": "c969a48e-08a6-4f4d-9e17-507233b8c6e9",
   "metadata": {},
   "outputs": [
    {
     "data": {
      "text/plain": [
       "array([[ 1,  2,  3],\n",
       "       [ 4,  5,  6],\n",
       "       [ 7,  8,  9],\n",
       "       [ 2,  5,  6],\n",
       "       [ 9, 10, 11],\n",
       "       [ 5,  6,  9],\n",
       "       [ 4, 10, 13],\n",
       "       [ 7, 14, 15],\n",
       "       [10, 16, 18]])"
      ]
     },
     "execution_count": 129,
     "metadata": {},
     "output_type": "execute_result"
    }
   ],
   "source": [
    "np.concatenate([array2, array3, array4])"
   ]
  },
  {
   "cell_type": "code",
   "execution_count": 131,
   "id": "d719c167-a7c9-447b-9467-2ee91434054e",
   "metadata": {},
   "outputs": [
    {
     "data": {
      "text/plain": [
       "array([15, 16, 17])"
      ]
     },
     "execution_count": 131,
     "metadata": {},
     "output_type": "execute_result"
    }
   ],
   "source": [
    "narray1=np.array([15,16,17])\n",
    "narray1"
   ]
  },
  {
   "cell_type": "code",
   "execution_count": 133,
   "id": "3a41f239-0d4a-45ad-b898-56072554ccfb",
   "metadata": {},
   "outputs": [
    {
     "data": {
      "text/plain": [
       "array([[1, 2, 3],\n",
       "       [4, 5, 6],\n",
       "       [7, 8, 9]])"
      ]
     },
     "execution_count": 133,
     "metadata": {},
     "output_type": "execute_result"
    }
   ],
   "source": [
    "narray2=np.array([[1,2,3],[4,5,6],[7,8,9]])\n",
    "array2"
   ]
  },
  {
   "cell_type": "code",
   "execution_count": 135,
   "id": "e8d62c6c-b2c1-4723-98a5-a3fe2c092492",
   "metadata": {},
   "outputs": [
    {
     "data": {
      "text/plain": [
       "array([[15, 16, 17],\n",
       "       [ 1,  2,  3],\n",
       "       [ 4,  5,  6],\n",
       "       [ 7,  8,  9]])"
      ]
     },
     "execution_count": 135,
     "metadata": {},
     "output_type": "execute_result"
    }
   ],
   "source": [
    "np.vstack([narray1, narray2])"
   ]
  },
  {
   "cell_type": "code",
   "execution_count": 137,
   "id": "039a2efb-e037-47c2-af80-cb44b738d64b",
   "metadata": {},
   "outputs": [
    {
     "data": {
      "text/plain": [
       "array([[15],\n",
       "       [16],\n",
       "       [47]])"
      ]
     },
     "execution_count": 137,
     "metadata": {},
     "output_type": "execute_result"
    }
   ],
   "source": [
    "narray3=np.array([[15], [16], [47]])\n",
    "narray3"
   ]
  },
  {
   "cell_type": "code",
   "execution_count": 139,
   "id": "562c5247-f297-4748-b97c-50bb7fcabd37",
   "metadata": {},
   "outputs": [
    {
     "data": {
      "text/plain": [
       "array([[15,  1,  2,  3],\n",
       "       [16,  4,  5,  6],\n",
       "       [47,  7,  8,  9]])"
      ]
     },
     "execution_count": 139,
     "metadata": {},
     "output_type": "execute_result"
    }
   ],
   "source": [
    "np.hstack([narray3,array2])"
   ]
  },
  {
   "cell_type": "code",
   "execution_count": 143,
   "id": "466d81a4-11f5-4760-af9e-64ed93df54f7",
   "metadata": {},
   "outputs": [
    {
     "data": {
      "text/plain": [
       "9"
      ]
     },
     "execution_count": 143,
     "metadata": {},
     "output_type": "execute_result"
    }
   ],
   "source": [
    "new_array=np.array([15,16,17,12,49,52,12,14,36])\n",
    "len(new_array)"
   ]
  },
  {
   "cell_type": "code",
   "execution_count": 145,
   "id": "d599a5a1-7be0-456d-918c-aa06f31a1933",
   "metadata": {},
   "outputs": [
    {
     "data": {
      "text/plain": [
       "array([[218, 323, 200,  13, 184, 138, 245, 296, 297],\n",
       "       [263,  22, 276,  26,  80,  29, 280, 131, 153],\n",
       "       [ 30, 198,  16, 243, 209, 197, 340, 258, 320],\n",
       "       [142, 189,  97, 225, 310,  12,  61, 111,  29],\n",
       "       [250, 242,  67, 178,  47, 123, 305,  82, 132],\n",
       "       [ 14, 346, 315, 247, 253, 108, 311,  27, 227],\n",
       "       [332,  62, 101, 143, 104, 167, 290,  91, 291],\n",
       "       [213, 152,  49, 320, 302, 203,  11, 119, 197],\n",
       "       [102, 200,  98,  79, 196,  37,  52, 237, 184],\n",
       "       [ 52, 279,  53, 208, 272,  44, 144, 228, 196]])"
      ]
     },
     "execution_count": 145,
     "metadata": {},
     "output_type": "execute_result"
    }
   ],
   "source": [
    "array5=np.random.randint(350, size=(10,9))\n",
    "array5"
   ]
  },
  {
   "cell_type": "code",
   "execution_count": 147,
   "id": "75a69eb4-9980-4ffa-ae80-5a6b1f077241",
   "metadata": {},
   "outputs": [
    {
     "data": {
      "text/plain": [
       "array([[220, 325, 202,  15, 186, 140, 247, 298, 299],\n",
       "       [265,  24, 278,  28,  82,  31, 282, 133, 155],\n",
       "       [ 32, 200,  18, 245, 211, 199, 342, 260, 322],\n",
       "       [144, 191,  99, 227, 312,  14,  63, 113,  31],\n",
       "       [252, 244,  69, 180,  49, 125, 307,  84, 134],\n",
       "       [ 16, 348, 317, 249, 255, 110, 313,  29, 229],\n",
       "       [334,  64, 103, 145, 106, 169, 292,  93, 293],\n",
       "       [215, 154,  51, 322, 304, 205,  13, 121, 199],\n",
       "       [104, 202, 100,  81, 198,  39,  54, 239, 186],\n",
       "       [ 54, 281,  55, 210, 274,  46, 146, 230, 198]])"
      ]
     },
     "execution_count": 147,
     "metadata": {},
     "output_type": "execute_result"
    }
   ],
   "source": [
    "array5 + 2"
   ]
  },
  {
   "cell_type": "code",
   "execution_count": 149,
   "id": "64222a7d-8c20-4b7a-af28-2fb99b5a3aac",
   "metadata": {},
   "outputs": [
    {
     "data": {
      "text/plain": [
       "array([[216, 321, 198,  11, 182, 136, 243, 294, 295],\n",
       "       [261,  20, 274,  24,  78,  27, 278, 129, 151],\n",
       "       [ 28, 196,  14, 241, 207, 195, 338, 256, 318],\n",
       "       [140, 187,  95, 223, 308,  10,  59, 109,  27],\n",
       "       [248, 240,  65, 176,  45, 121, 303,  80, 130],\n",
       "       [ 12, 344, 313, 245, 251, 106, 309,  25, 225],\n",
       "       [330,  60,  99, 141, 102, 165, 288,  89, 289],\n",
       "       [211, 150,  47, 318, 300, 201,   9, 117, 195],\n",
       "       [100, 198,  96,  77, 194,  35,  50, 235, 182],\n",
       "       [ 50, 277,  51, 206, 270,  42, 142, 226, 194]])"
      ]
     },
     "execution_count": 149,
     "metadata": {},
     "output_type": "execute_result"
    }
   ],
   "source": [
    "array5 - 2"
   ]
  },
  {
   "cell_type": "code",
   "execution_count": 151,
   "id": "1633f341-e136-44dd-b29a-d5257e7e8719",
   "metadata": {},
   "outputs": [
    {
     "data": {
      "text/plain": [
       "array([[2180, 3230, 2000,  130, 1840, 1380, 2450, 2960, 2970],\n",
       "       [2630,  220, 2760,  260,  800,  290, 2800, 1310, 1530],\n",
       "       [ 300, 1980,  160, 2430, 2090, 1970, 3400, 2580, 3200],\n",
       "       [1420, 1890,  970, 2250, 3100,  120,  610, 1110,  290],\n",
       "       [2500, 2420,  670, 1780,  470, 1230, 3050,  820, 1320],\n",
       "       [ 140, 3460, 3150, 2470, 2530, 1080, 3110,  270, 2270],\n",
       "       [3320,  620, 1010, 1430, 1040, 1670, 2900,  910, 2910],\n",
       "       [2130, 1520,  490, 3200, 3020, 2030,  110, 1190, 1970],\n",
       "       [1020, 2000,  980,  790, 1960,  370,  520, 2370, 1840],\n",
       "       [ 520, 2790,  530, 2080, 2720,  440, 1440, 2280, 1960]])"
      ]
     },
     "execution_count": 151,
     "metadata": {},
     "output_type": "execute_result"
    }
   ],
   "source": [
    "array5 * 10"
   ]
  },
  {
   "cell_type": "code",
   "execution_count": 153,
   "id": "d5565863-50a4-4e74-8cbf-89f11fb8cf97",
   "metadata": {},
   "outputs": [
    {
     "data": {
      "text/plain": [
       "array([2180, 2630,  300, 1420, 2500,  140, 3320, 2130, 1020,  520])"
      ]
     },
     "execution_count": 153,
     "metadata": {},
     "output_type": "execute_result"
    }
   ],
   "source": [
    "array5[:,0] * 10"
   ]
  },
  {
   "cell_type": "code",
   "execution_count": 155,
   "id": "816fad73-92f6-4eeb-8230-0ffa2bf2db12",
   "metadata": {},
   "outputs": [
    {
     "data": {
      "text/plain": [
       "array([[220, 325, 202,  15, 186, 140, 247, 298, 299],\n",
       "       [265,  24, 278,  28,  82,  31, 282, 133, 155],\n",
       "       [ 32, 200,  18, 245, 211, 199, 342, 260, 322],\n",
       "       [144, 191,  99, 227, 312,  14,  63, 113,  31],\n",
       "       [252, 244,  69, 180,  49, 125, 307,  84, 134],\n",
       "       [ 16, 348, 317, 249, 255, 110, 313,  29, 229],\n",
       "       [334,  64, 103, 145, 106, 169, 292,  93, 293],\n",
       "       [215, 154,  51, 322, 304, 205,  13, 121, 199],\n",
       "       [104, 202, 100,  81, 198,  39,  54, 239, 186],\n",
       "       [ 54, 281,  55, 210, 274,  46, 146, 230, 198]])"
      ]
     },
     "execution_count": 155,
     "metadata": {},
     "output_type": "execute_result"
    }
   ],
   "source": [
    "np.add(array5,2)"
   ]
  },
  {
   "cell_type": "code",
   "execution_count": 157,
   "id": "7ef7be9f-4c27-4ab5-bfa9-7c9a7422857d",
   "metadata": {},
   "outputs": [
    {
     "data": {
      "text/plain": [
       "array([[211, 316, 193,   6, 177, 131, 238, 289, 290],\n",
       "       [256,  15, 269,  19,  73,  22, 273, 124, 146],\n",
       "       [ 23, 191,   9, 236, 202, 190, 333, 251, 313],\n",
       "       [135, 182,  90, 218, 303,   5,  54, 104,  22],\n",
       "       [243, 235,  60, 171,  40, 116, 298,  75, 125],\n",
       "       [  7, 339, 308, 240, 246, 101, 304,  20, 220],\n",
       "       [325,  55,  94, 136,  97, 160, 283,  84, 284],\n",
       "       [206, 145,  42, 313, 295, 196,   4, 112, 190],\n",
       "       [ 95, 193,  91,  72, 189,  30,  45, 230, 177],\n",
       "       [ 45, 272,  46, 201, 265,  37, 137, 221, 189]])"
      ]
     },
     "execution_count": 157,
     "metadata": {},
     "output_type": "execute_result"
    }
   ],
   "source": [
    "np.subtract(array5,7)"
   ]
  },
  {
   "cell_type": "code",
   "execution_count": 159,
   "id": "71f295dc-8359-44fa-9002-fe2e29304c25",
   "metadata": {},
   "outputs": [
    {
     "data": {
      "text/plain": [
       "array([[2180, 3230, 2000,  130, 1840, 1380, 2450, 2960, 2970],\n",
       "       [2630,  220, 2760,  260,  800,  290, 2800, 1310, 1530],\n",
       "       [ 300, 1980,  160, 2430, 2090, 1970, 3400, 2580, 3200],\n",
       "       [1420, 1890,  970, 2250, 3100,  120,  610, 1110,  290],\n",
       "       [2500, 2420,  670, 1780,  470, 1230, 3050,  820, 1320],\n",
       "       [ 140, 3460, 3150, 2470, 2530, 1080, 3110,  270, 2270],\n",
       "       [3320,  620, 1010, 1430, 1040, 1670, 2900,  910, 2910],\n",
       "       [2130, 1520,  490, 3200, 3020, 2030,  110, 1190, 1970],\n",
       "       [1020, 2000,  980,  790, 1960,  370,  520, 2370, 1840],\n",
       "       [ 520, 2790,  530, 2080, 2720,  440, 1440, 2280, 1960]])"
      ]
     },
     "execution_count": 159,
     "metadata": {},
     "output_type": "execute_result"
    }
   ],
   "source": [
    "np.multiply(array5,10)"
   ]
  },
  {
   "cell_type": "code",
   "execution_count": 163,
   "id": "f2913843-c2ed-4dc9-851f-755a6c31898b",
   "metadata": {},
   "outputs": [
    {
     "data": {
      "text/plain": [
       "array([[4.36, 6.46, 4.  , 0.26, 3.68, 2.76, 4.9 , 5.92, 5.94],\n",
       "       [5.26, 0.44, 5.52, 0.52, 1.6 , 0.58, 5.6 , 2.62, 3.06],\n",
       "       [0.6 , 3.96, 0.32, 4.86, 4.18, 3.94, 6.8 , 5.16, 6.4 ],\n",
       "       [2.84, 3.78, 1.94, 4.5 , 6.2 , 0.24, 1.22, 2.22, 0.58],\n",
       "       [5.  , 4.84, 1.34, 3.56, 0.94, 2.46, 6.1 , 1.64, 2.64],\n",
       "       [0.28, 6.92, 6.3 , 4.94, 5.06, 2.16, 6.22, 0.54, 4.54],\n",
       "       [6.64, 1.24, 2.02, 2.86, 2.08, 3.34, 5.8 , 1.82, 5.82],\n",
       "       [4.26, 3.04, 0.98, 6.4 , 6.04, 4.06, 0.22, 2.38, 3.94],\n",
       "       [2.04, 4.  , 1.96, 1.58, 3.92, 0.74, 1.04, 4.74, 3.68],\n",
       "       [1.04, 5.58, 1.06, 4.16, 5.44, 0.88, 2.88, 4.56, 3.92]])"
      ]
     },
     "execution_count": 163,
     "metadata": {},
     "output_type": "execute_result"
    }
   ],
   "source": [
    "np.divide(array5, 50)"
   ]
  },
  {
   "cell_type": "code",
   "execution_count": 165,
   "id": "13972097-c38e-4590-ad0a-1d5b6b98a2a9",
   "metadata": {},
   "outputs": [
    {
     "data": {
      "text/plain": [
       "169.36666666666667"
      ]
     },
     "execution_count": 165,
     "metadata": {},
     "output_type": "execute_result"
    }
   ],
   "source": [
    "np.mean(array5)"
   ]
  },
  {
   "cell_type": "code",
   "execution_count": 167,
   "id": "f8b41001-8e76-48e2-abb3-34164647bc6b",
   "metadata": {},
   "outputs": [
    {
     "data": {
      "text/plain": [
       "346"
      ]
     },
     "execution_count": 167,
     "metadata": {},
     "output_type": "execute_result"
    }
   ],
   "source": [
    "array5.max()"
   ]
  },
  {
   "cell_type": "code",
   "execution_count": 169,
   "id": "ff50e266-7bca-4ae1-8cce-1a2904464390",
   "metadata": {},
   "outputs": [
    {
     "data": {
      "text/plain": [
       "11"
      ]
     },
     "execution_count": 169,
     "metadata": {},
     "output_type": "execute_result"
    }
   ],
   "source": [
    "array5.min()"
   ]
  },
  {
   "cell_type": "code",
   "execution_count": 173,
   "id": "d9ba4cb2-c489-433a-90df-c9723eb9d183",
   "metadata": {},
   "outputs": [
    {
     "data": {
      "text/plain": [
       "array([[2, 9, 6, 6, 9],\n",
       "       [3, 5, 1, 5, 2],\n",
       "       [3, 8, 5, 1, 7],\n",
       "       [1, 8, 1, 6, 9],\n",
       "       [9, 2, 3, 7, 1]])"
      ]
     },
     "execution_count": 173,
     "metadata": {},
     "output_type": "execute_result"
    }
   ],
   "source": [
    "matrix = np.random.randint(1,10, (5,5))\n",
    "matrix"
   ]
  },
  {
   "cell_type": "code",
   "execution_count": 175,
   "id": "5bd9799c-16c2-4308-a645-ec0608a9ae81",
   "metadata": {},
   "outputs": [
    {
     "data": {
      "text/plain": [
       "array([9, 6, 6, 9, 5, 5, 8, 5, 7, 8, 6, 9, 9, 7])"
      ]
     },
     "execution_count": 175,
     "metadata": {},
     "output_type": "execute_result"
    }
   ],
   "source": [
    "new_matrix = matrix[matrix>3]\n",
    "new_matrix"
   ]
  },
  {
   "cell_type": "code",
   "execution_count": 177,
   "id": "f467c7e3-3ad4-4293-9c03-fc52ac3d0be9",
   "metadata": {},
   "outputs": [
    {
     "data": {
      "text/plain": [
       "array([2, 6, 6, 2, 8, 8, 6, 2])"
      ]
     },
     "execution_count": 177,
     "metadata": {},
     "output_type": "execute_result"
    }
   ],
   "source": [
    "new_matrix = matrix[matrix%2==0]\n",
    "new_matrix"
   ]
  },
  {
   "cell_type": "code",
   "execution_count": null,
   "id": "697ed741-61e3-4fa8-bad0-d0094b04fc53",
   "metadata": {},
   "outputs": [],
   "source": []
  }
 ],
 "metadata": {
  "kernelspec": {
   "display_name": "Python [conda env:base] *",
   "language": "python",
   "name": "conda-base-py"
  },
  "language_info": {
   "codemirror_mode": {
    "name": "ipython",
    "version": 3
   },
   "file_extension": ".py",
   "mimetype": "text/x-python",
   "name": "python",
   "nbconvert_exporter": "python",
   "pygments_lexer": "ipython3",
   "version": "3.12.7"
  }
 },
 "nbformat": 4,
 "nbformat_minor": 5
}
